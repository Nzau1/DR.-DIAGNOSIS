{
  "nbformat": 4,
  "nbformat_minor": 0,
  "metadata": {
    "colab": {
      "provenance": [],
      "gpuType": "V28",
      "authorship_tag": "ABX9TyN8F7gIorYCHFWRGrrUAVMK",
      "include_colab_link": true
    },
    "kernelspec": {
      "name": "python3",
      "display_name": "Python 3"
    },
    "language_info": {
      "name": "python"
    },
    "accelerator": "TPU"
  },
  "cells": [
    {
      "cell_type": "markdown",
      "metadata": {
        "id": "view-in-github",
        "colab_type": "text"
      },
      "source": [
        "<a href=\"https://colab.research.google.com/github/Nzau1/DR.-DIAGNOSIS/blob/main/data_preprocessing.ipynb\" target=\"_parent\"><img src=\"https://colab.research.google.com/assets/colab-badge.svg\" alt=\"Open In Colab\"/></a>"
      ]
    },
    {
      "cell_type": "code",
      "execution_count": 5,
      "metadata": {
        "colab": {
          "base_uri": "https://localhost:8080/"
        },
        "id": "2rg5HIxyE2ZH",
        "outputId": "631d6eda-84ad-4767-f216-9325440639db"
      },
      "outputs": [
        {
          "output_type": "stream",
          "name": "stdout",
          "text": [
            "Drive already mounted at /content/drive; to attempt to forcibly remount, call drive.mount(\"/content/drive\", force_remount=True).\n",
            "\n",
            "Dataset Info:\n",
            "<class 'pandas.core.frame.DataFrame'>\n",
            "RangeIndex: 246945 entries, 0 to 246944\n",
            "Columns: 378 entries, diseases to neck weakness\n",
            "dtypes: int64(377), object(1)\n",
            "memory usage: 712.2+ MB\n",
            "None\n",
            "\n",
            "First 5 rows:\n",
            "         diseases  anxiety and nervousness  depression  shortness of breath  \\\n",
            "0  panic disorder                        1           0                    1   \n",
            "1  panic disorder                        0           0                    1   \n",
            "2  panic disorder                        1           1                    1   \n",
            "3  panic disorder                        1           0                    0   \n",
            "4  panic disorder                        1           1                    0   \n",
            "\n",
            "   depressive or psychotic symptoms  sharp chest pain  dizziness  insomnia  \\\n",
            "0                                 1                 0          0         0   \n",
            "1                                 1                 0          1         1   \n",
            "2                                 1                 0          1         1   \n",
            "3                                 1                 0          1         1   \n",
            "4                                 0                 0          0         1   \n",
            "\n",
            "   abnormal involuntary movements  chest tightness  ...  \\\n",
            "0                               0                1  ...   \n",
            "1                               0                0  ...   \n",
            "2                               0                0  ...   \n",
            "3                               1                0  ...   \n",
            "4                               1                1  ...   \n",
            "\n",
            "   stuttering or stammering  problems with orgasm  nose deformity  \\\n",
            "0                         0                     0               0   \n",
            "1                         0                     0               0   \n",
            "2                         0                     0               0   \n",
            "3                         0                     0               0   \n",
            "4                         0                     0               0   \n",
            "\n",
            "   lump over jaw  sore in nose  hip weakness  back swelling  \\\n",
            "0              0             0             0              0   \n",
            "1              0             0             0              0   \n",
            "2              0             0             0              0   \n",
            "3              0             0             0              0   \n",
            "4              0             0             0              0   \n",
            "\n",
            "   ankle stiffness or tightness  ankle weakness  neck weakness  \n",
            "0                             0               0              0  \n",
            "1                             0               0              0  \n",
            "2                             0               0              0  \n",
            "3                             0               0              0  \n",
            "4                             0               0              0  \n",
            "\n",
            "[5 rows x 378 columns]\n"
          ]
        },
        {
          "output_type": "stream",
          "name": "stderr",
          "text": [
            "<ipython-input-5-d7dbe0f618c8>:26: FutureWarning: DataFrame.fillna with 'method' is deprecated and will raise in a future version. Use obj.ffill() or obj.bfill() instead.\n",
            "  df.fillna(method='ffill', inplace=True)  # Forward fill for missing values\n"
          ]
        },
        {
          "output_type": "stream",
          "name": "stdout",
          "text": [
            "\n",
            "✅ Data Preprocessing Complete! Preprocessed data saved in Google Drive.\n"
          ]
        }
      ],
      "source": [
        "# Mount Google Drive\n",
        "from google.colab import drive\n",
        "drive.mount('/content/drive')\n",
        "\n",
        "import pandas as pd\n",
        "import numpy as np\n",
        "from sklearn.preprocessing import LabelEncoder, StandardScaler\n",
        "from sklearn.model_selection import train_test_split\n",
        "import os\n",
        "\n",
        "# Define file path\n",
        "drive_path = \"/content/drive/MyDrive/diagnosis/Final_Augmented_dataset_Diseases_and_Symptoms.csv\"\n",
        "\n",
        "# Load dataset\n",
        "df = pd.read_csv(drive_path)\n",
        "\n",
        "# Display dataset info\n",
        "print(\"\\nDataset Info:\")\n",
        "print(df.info())\n",
        "\n",
        "# Display first few rows\n",
        "print(\"\\nFirst 5 rows:\")\n",
        "print(df.head())\n",
        "\n",
        "# Handle missing values\n",
        "df.fillna(method='ffill', inplace=True)  # Forward fill for missing values\n",
        "\n",
        "# Identify categorical and numerical columns\n",
        "categorical_cols = df.select_dtypes(include=['object']).columns\n",
        "numerical_cols = df.select_dtypes(include=['int64', 'float64']).columns\n",
        "\n",
        "# Encode categorical features\n",
        "label_encoders = {}\n",
        "for col in categorical_cols:\n",
        "    le = LabelEncoder()\n",
        "    df[col] = le.fit_transform(df[col])\n",
        "    label_encoders[col] = le  # Store encoders for later use\n",
        "\n",
        "# Normalize numerical features (if applicable)\n",
        "scaler = StandardScaler()\n",
        "df[numerical_cols] = scaler.fit_transform(df[numerical_cols])\n",
        "\n",
        "# Splitting into features and target\n",
        "X = df.drop(columns=['diseases'])  # Changed 'Disease' to 'diseases'\n",
        "y = df['diseases']  # Changed 'Disease' to 'diseases'\n",
        "\n",
        "# Train-test split\n",
        "X_train, X_test, y_train, y_test = train_test_split(X, y, test_size=0.2, random_state=42)\n",
        "\n",
        "# Save preprocessed data back to Google Drive\n",
        "output_folder = \"/content/drive/MyDrive/diagnosis/processed_data\"\n",
        "os.makedirs(output_folder, exist_ok=True)\n",
        "\n",
        "X_train.to_csv(f\"{output_folder}/X_train.csv\", index=False)\n",
        "X_test.to_csv(f\"{output_folder}/X_test.csv\", index=False)\n",
        "y_train.to_csv(f\"{output_folder}/y_train.csv\", index=False)\n",
        "y_test.to_csv(f\"{output_folder}/y_test.csv\", index=False)\n",
        "\n",
        "print(\"\\n✅ Data Preprocessing Complete! Preprocessed data saved in Google Drive.\")\n"
      ]
    },
    {
      "cell_type": "code",
      "source": [
        "from google.colab import drive\n",
        "import os\n",
        "\n",
        "# Mount Google Drive\n",
        "drive.mount('/content/drive')\n",
        "\n",
        "# Define the folder path\n",
        "folder_path = \"/content/drive/MyDrive/diagnosis\"\n",
        "\n",
        "# Create the folder if it doesn't exist\n",
        "if not os.path.exists(folder_path):\n",
        "    os.makedirs(folder_path)\n",
        "    print(f\"✅ Folder 'diagnosis' created successfully in Google Drive!\")\n",
        "else:\n",
        "    print(f\"⚠️ Folder 'diagnosis' already exists in Google Drive.\")"
      ],
      "metadata": {
        "colab": {
          "base_uri": "https://localhost:8080/"
        },
        "id": "N3Lzo--0Gf6Y",
        "outputId": "54ca0acc-53a6-4e17-f007-32de7a6e3239"
      },
      "execution_count": 3,
      "outputs": [
        {
          "output_type": "stream",
          "name": "stdout",
          "text": [
            "Drive already mounted at /content/drive; to attempt to forcibly remount, call drive.mount(\"/content/drive\", force_remount=True).\n",
            "⚠️ Folder 'diagnosis' already exists in Google Drive.\n"
          ]
        }
      ]
    }
  ]
}